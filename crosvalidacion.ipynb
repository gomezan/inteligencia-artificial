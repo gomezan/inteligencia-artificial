{
  "nbformat": 4,
  "nbformat_minor": 0,
  "metadata": {
    "colab": {
      "name": "crosvalidacion.ipynb",
      "provenance": [],
      "include_colab_link": true
    },
    "kernelspec": {
      "name": "python3",
      "display_name": "Python 3"
    },
    "language_info": {
      "name": "python"
    }
  },
  "cells": [
    {
      "cell_type": "markdown",
      "metadata": {
        "id": "view-in-github",
        "colab_type": "text"
      },
      "source": [
        "<a href=\"https://colab.research.google.com/github/gomezan/inteligencia-artificial/blob/main/crosvalidacion.ipynb\" target=\"_parent\"><img src=\"https://colab.research.google.com/assets/colab-badge.svg\" alt=\"Open In Colab\"/></a>"
      ]
    },
    {
      "cell_type": "code",
      "metadata": {
        "id": "u-4070BesDi5"
      },
      "source": [
        "import numpy as np\n",
        "from sklearn.model_selection import train_test_split\n",
        "from sklearn import datasets\n",
        "from sklearn import svm"
      ],
      "execution_count": null,
      "outputs": []
    },
    {
      "cell_type": "code",
      "metadata": {
        "colab": {
          "base_uri": "https://localhost:8080/"
        },
        "id": "voO6uHsVsaWU",
        "outputId": "3fba06ce-e76b-4432-9d20-7f82933a9c4a"
      },
      "source": [
        "X, y = datasets.load_iris(return_X_y=True)#Ojo, faltaría en este ejemplo escalizar los datos! no lo pongo solo para no enredar las cosas más\n",
        "print(X.shape, y.shape)"
      ],
      "execution_count": null,
      "outputs": [
        {
          "output_type": "stream",
          "name": "stdout",
          "text": [
            "(150, 4) (150,)\n"
          ]
        }
      ]
    },
    {
      "cell_type": "code",
      "metadata": {
        "colab": {
          "base_uri": "https://localhost:8080/"
        },
        "id": "cEFaWVc0sgom",
        "outputId": "991721dd-7108-4bc3-bece-ef6be3c3be13"
      },
      "source": [
        "X_train, X_test, y_train, y_test = train_test_split(X, y, test_size=0.4, random_state=666)\n",
        "print(\"Train: \",X_train.shape, y_train.shape)\n",
        "print(\"Test: \",X_test.shape, y_test.shape)\n",
        "# aqui me haría falta escalizar los datos, y como no se pues un standardscaler!\n",
        "# y me faltaria tambien hacer un análisis de componentes principales!"
      ],
      "execution_count": null,
      "outputs": [
        {
          "output_type": "stream",
          "name": "stdout",
          "text": [
            "Train:  (90, 4) (90,)\n",
            "Test:  (60, 4) (60,)\n"
          ]
        }
      ]
    },
    {
      "cell_type": "code",
      "metadata": {
        "colab": {
          "base_uri": "https://localhost:8080/"
        },
        "id": "eH9aCYkTswOJ",
        "outputId": "d3cbac4a-7540-46f8-87bc-6163c73d0907"
      },
      "source": [
        "clf = svm.SVC(kernel='linear', C=1).fit(X_train, y_train)\n",
        "print(\"score: \",clf.score(X_test, y_test))"
      ],
      "execution_count": null,
      "outputs": [
        {
          "output_type": "stream",
          "name": "stdout",
          "text": [
            "score:  1.0\n"
          ]
        }
      ]
    },
    {
      "cell_type": "markdown",
      "metadata": {
        "id": "TnWA98PkIJdH"
      },
      "source": [
        "Crros-Validacion"
      ]
    },
    {
      "cell_type": "code",
      "metadata": {
        "colab": {
          "base_uri": "https://localhost:8080/"
        },
        "id": "3FWwqM_IH-vZ",
        "outputId": "efe3c154-9d1c-4f63-9ed0-7c2a79c716dd"
      },
      "source": [
        "from sklearn.model_selection import cross_val_score\n",
        "\n",
        "\n",
        "#faltaría un bucle por ejemplo variando C=[0.001 0.01 0.1 1 10]\n",
        "clf = svm.SVC(kernel='linear', C=1, random_state=0)\n",
        "#si quieren variar la semilla del cross_val_score toca variar la de numpy!!!\n",
        "scores = cross_val_score(clf, X, y, cv=5)\n",
        "print(scores)"
      ],
      "execution_count": null,
      "outputs": [
        {
          "output_type": "stream",
          "name": "stdout",
          "text": [
            "[0.96666667 1.         0.96666667 0.96666667 1.        ]\n"
          ]
        }
      ]
    },
    {
      "cell_type": "code",
      "metadata": {
        "colab": {
          "base_uri": "https://localhost:8080/"
        },
        "id": "t37jSH1KH-49",
        "outputId": "3bf9c8ce-cc2e-4953-a4a4-b08b025553ca"
      },
      "source": [
        "print(\"en total se tiene un %0.2f accuracy con una desviación estandard de %0.2f usando %d-plieges\" % (scores.mean(), scores.std(),len(scores)))"
      ],
      "execution_count": null,
      "outputs": [
        {
          "output_type": "stream",
          "name": "stdout",
          "text": [
            "en total se tiene un 0.98 accuracy con una desviación estandard de 0.02 usando 5-plieges\n"
          ]
        }
      ]
    },
    {
      "cell_type": "code",
      "metadata": {
        "colab": {
          "base_uri": "https://localhost:8080/"
        },
        "id": "BTU_7E4jH_AO",
        "outputId": "2c4c544e-c017-48d1-9fb5-27fd44ab3f05"
      },
      "source": [
        "#Ejercicio: ver el parámetro scoring de \n",
        "# ver: https://scikit-learn.org/stable/modules/model_evaluation.html#scoring-parameter\n",
        "from sklearn import metrics\n",
        "scores = cross_val_score(clf, X, y, cv=5, scoring='f1_macro')\n",
        "print(scores)\n",
        "print(\"en total se tiene un %0.2f f1_macro con una desviación estandard de %0.2f usando %d-plieges\" % (scores.mean(), scores.std(),len(scores)))"
      ],
      "execution_count": null,
      "outputs": [
        {
          "output_type": "stream",
          "name": "stdout",
          "text": [
            "[0.96658312 1.         0.96658312 0.96658312 1.        ]\n",
            "en total se tiene un 0.98 f1_macro con una desviación estandard de 0.02 usando 5-plieges\n"
          ]
        }
      ]
    },
    {
      "cell_type": "markdown",
      "metadata": {
        "id": "tzck-gQGKkc0"
      },
      "source": [
        "La función cross_validate se diferencia de cross_val_score de dos formas:\n",
        "\n",
        "Permite especificar múltiples métricas para su evaluación.\n",
        "\n",
        "Devuelve un dict que contiene tiempos de ajuste, tiempos de puntuación (fit-times, score-times) (y, opcionalmente, puntuaciones de entrenamiento, así como estimadores ajustados) además de la puntuación de la prueba."
      ]
    },
    {
      "cell_type": "code",
      "metadata": {
        "colab": {
          "base_uri": "https://localhost:8080/"
        },
        "id": "4LjDxHHqKlUy",
        "outputId": "a39ac46c-02ca-4ec2-f282-2dbfe65e9cb1"
      },
      "source": [
        "from sklearn.model_selection import cross_validate\n",
        "#https://scikit-learn.org/stable/modules/generated/sklearn.model_selection.cross_validate.html#sklearn.model_selection.cross_validate\n",
        "from sklearn.metrics import recall_score\n",
        "scoring = ['precision_macro', 'recall_macro']\n",
        "clf = svm.SVC(kernel='linear', C=1, random_state=0)\n",
        "scores = cross_validate(clf, X, y, scoring=scoring)\n",
        "print(scores)\n",
        "sorted(scores.keys())"
      ],
      "execution_count": null,
      "outputs": [
        {
          "output_type": "stream",
          "name": "stdout",
          "text": [
            "{'fit_time': array([0.00087786, 0.00085521, 0.00079942, 0.00076914, 0.00073171]), 'score_time': array([0.00138402, 0.0012753 , 0.00125575, 0.00126958, 0.00121522]), 'test_precision_macro': array([0.96969697, 1.        , 0.96969697, 0.96969697, 1.        ]), 'test_recall_macro': array([0.96666667, 1.        , 0.96666667, 0.96666667, 1.        ])}\n"
          ]
        },
        {
          "output_type": "execute_result",
          "data": {
            "text/plain": [
              "['fit_time', 'score_time', 'test_precision_macro', 'test_recall_macro']"
            ]
          },
          "metadata": {},
          "execution_count": 15
        }
      ]
    }
  ]
}