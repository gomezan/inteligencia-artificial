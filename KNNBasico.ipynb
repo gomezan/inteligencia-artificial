{
  "nbformat": 4,
  "nbformat_minor": 0,
  "metadata": {
    "colab": {
      "name": "Untitled8.ipynb",
      "provenance": [],
      "include_colab_link": true
    },
    "kernelspec": {
      "name": "python3",
      "display_name": "Python 3"
    },
    "language_info": {
      "name": "python"
    }
  },
  "cells": [
    {
      "cell_type": "markdown",
      "metadata": {
        "id": "view-in-github",
        "colab_type": "text"
      },
      "source": [
        "<a href=\"https://colab.research.google.com/github/gomezan/inteligencia-artificial/blob/main/KNNBasico.ipynb\" target=\"_parent\"><img src=\"https://colab.research.google.com/assets/colab-badge.svg\" alt=\"Open In Colab\"/></a>"
      ]
    },
    {
      "cell_type": "code",
      "metadata": {
        "id": "R1s1AaQrAmUw"
      },
      "source": [
        "import pandas as pd\n",
        "import numpy as np\n",
        "import matplotlib.pyplot as plt\n",
        "from matplotlib.colors import ListedColormap\n",
        "import matplotlib.patches as mpatches\n",
        "import seaborn as sb\n",
        "%matplotlib inline\n",
        "plt.rcParams['figure.figsize'] = (16, 9)\n",
        "plt.style.use('ggplot')\n",
        "\n",
        "from sklearn.neighbors import KNeighborsClassifier\n",
        "from sklearn.neighbors import DistanceMetric\n",
        "\n",
        "from sklearn.preprocessing import minmax_scale\n",
        "from sklearn.preprocessing import StandardScaler\n",
        "from sklearn.model_selection import train_test_split\n",
        "\n",
        "from sklearn.metrics import classification_report\n",
        "from sklearn.metrics import confusion_matrix"
      ],
      "execution_count": null,
      "outputs": []
    },
    {
      "cell_type": "code",
      "metadata": {
        "colab": {
          "base_uri": "https://localhost:8080/",
          "height": 213
        },
        "id": "rKMPr32JIQXH",
        "outputId": "440754fa-8ce5-4cac-f15f-92c7c83b8842"
      },
      "source": [
        "\n",
        "dataframe = pd.read_csv(r\"reviews_sentiment.csv\",sep=';')\n",
        "dataframe.head(3)"
      ],
      "execution_count": null,
      "outputs": [
        {
          "output_type": "execute_result",
          "data": {
            "text/html": [
              "<div>\n",
              "<style scoped>\n",
              "    .dataframe tbody tr th:only-of-type {\n",
              "        vertical-align: middle;\n",
              "    }\n",
              "\n",
              "    .dataframe tbody tr th {\n",
              "        vertical-align: top;\n",
              "    }\n",
              "\n",
              "    .dataframe thead th {\n",
              "        text-align: right;\n",
              "    }\n",
              "</style>\n",
              "<table border=\"1\" class=\"dataframe\">\n",
              "  <thead>\n",
              "    <tr style=\"text-align: right;\">\n",
              "      <th></th>\n",
              "      <th>Review Title</th>\n",
              "      <th>Review Text</th>\n",
              "      <th>wordcount</th>\n",
              "      <th>titleSentiment</th>\n",
              "      <th>textSentiment</th>\n",
              "      <th>Star Rating</th>\n",
              "      <th>sentimentValue</th>\n",
              "    </tr>\n",
              "  </thead>\n",
              "  <tbody>\n",
              "    <tr>\n",
              "      <th>0</th>\n",
              "      <td>Sin conexión</td>\n",
              "      <td>Hola desde hace algo más de un mes me pone sin...</td>\n",
              "      <td>23</td>\n",
              "      <td>negative</td>\n",
              "      <td>negative</td>\n",
              "      <td>1</td>\n",
              "      <td>-0.486389</td>\n",
              "    </tr>\n",
              "    <tr>\n",
              "      <th>1</th>\n",
              "      <td>faltan cosas</td>\n",
              "      <td>Han mejorado la apariencia pero no</td>\n",
              "      <td>20</td>\n",
              "      <td>negative</td>\n",
              "      <td>negative</td>\n",
              "      <td>1</td>\n",
              "      <td>-0.586187</td>\n",
              "    </tr>\n",
              "    <tr>\n",
              "      <th>2</th>\n",
              "      <td>Es muy buena lo recomiendo</td>\n",
              "      <td>Andres e puto amoooo</td>\n",
              "      <td>4</td>\n",
              "      <td>NaN</td>\n",
              "      <td>negative</td>\n",
              "      <td>1</td>\n",
              "      <td>-0.602240</td>\n",
              "    </tr>\n",
              "  </tbody>\n",
              "</table>\n",
              "</div>"
            ],
            "text/plain": [
              "                 Review Title  ... sentimentValue\n",
              "0                Sin conexión  ...      -0.486389\n",
              "1                faltan cosas  ...      -0.586187\n",
              "2  Es muy buena lo recomiendo  ...      -0.602240\n",
              "\n",
              "[3 rows x 7 columns]"
            ]
          },
          "metadata": {},
          "execution_count": 9
        }
      ]
    },
    {
      "cell_type": "code",
      "metadata": {
        "colab": {
          "base_uri": "https://localhost:8080/",
          "height": 300
        },
        "id": "WbquLc8oJPWq",
        "outputId": "e3f62809-eb3e-4482-90ab-a4f1ea29bdf6"
      },
      "source": [
        "dataframe.describe()\n"
      ],
      "execution_count": null,
      "outputs": [
        {
          "output_type": "execute_result",
          "data": {
            "text/html": [
              "<div>\n",
              "<style scoped>\n",
              "    .dataframe tbody tr th:only-of-type {\n",
              "        vertical-align: middle;\n",
              "    }\n",
              "\n",
              "    .dataframe tbody tr th {\n",
              "        vertical-align: top;\n",
              "    }\n",
              "\n",
              "    .dataframe thead th {\n",
              "        text-align: right;\n",
              "    }\n",
              "</style>\n",
              "<table border=\"1\" class=\"dataframe\">\n",
              "  <thead>\n",
              "    <tr style=\"text-align: right;\">\n",
              "      <th></th>\n",
              "      <th>wordcount</th>\n",
              "      <th>Star Rating</th>\n",
              "      <th>sentimentValue</th>\n",
              "    </tr>\n",
              "  </thead>\n",
              "  <tbody>\n",
              "    <tr>\n",
              "      <th>count</th>\n",
              "      <td>257.000000</td>\n",
              "      <td>257.000000</td>\n",
              "      <td>257.000000</td>\n",
              "    </tr>\n",
              "    <tr>\n",
              "      <th>mean</th>\n",
              "      <td>11.501946</td>\n",
              "      <td>3.420233</td>\n",
              "      <td>0.383849</td>\n",
              "    </tr>\n",
              "    <tr>\n",
              "      <th>std</th>\n",
              "      <td>13.159812</td>\n",
              "      <td>1.409531</td>\n",
              "      <td>0.897987</td>\n",
              "    </tr>\n",
              "    <tr>\n",
              "      <th>min</th>\n",
              "      <td>1.000000</td>\n",
              "      <td>1.000000</td>\n",
              "      <td>-2.276469</td>\n",
              "    </tr>\n",
              "    <tr>\n",
              "      <th>25%</th>\n",
              "      <td>3.000000</td>\n",
              "      <td>3.000000</td>\n",
              "      <td>-0.108144</td>\n",
              "    </tr>\n",
              "    <tr>\n",
              "      <th>50%</th>\n",
              "      <td>7.000000</td>\n",
              "      <td>3.000000</td>\n",
              "      <td>0.264091</td>\n",
              "    </tr>\n",
              "    <tr>\n",
              "      <th>75%</th>\n",
              "      <td>16.000000</td>\n",
              "      <td>5.000000</td>\n",
              "      <td>0.808384</td>\n",
              "    </tr>\n",
              "    <tr>\n",
              "      <th>max</th>\n",
              "      <td>103.000000</td>\n",
              "      <td>5.000000</td>\n",
              "      <td>3.264579</td>\n",
              "    </tr>\n",
              "  </tbody>\n",
              "</table>\n",
              "</div>"
            ],
            "text/plain": [
              "        wordcount  Star Rating  sentimentValue\n",
              "count  257.000000   257.000000      257.000000\n",
              "mean    11.501946     3.420233        0.383849\n",
              "std     13.159812     1.409531        0.897987\n",
              "min      1.000000     1.000000       -2.276469\n",
              "25%      3.000000     3.000000       -0.108144\n",
              "50%      7.000000     3.000000        0.264091\n",
              "75%     16.000000     5.000000        0.808384\n",
              "max    103.000000     5.000000        3.264579"
            ]
          },
          "metadata": {},
          "execution_count": 7
        }
      ]
    },
    {
      "cell_type": "code",
      "metadata": {
        "colab": {
          "base_uri": "https://localhost:8080/",
          "height": 554
        },
        "id": "ppwKeqQwJmnc",
        "outputId": "147d2f06-d345-4152-df8e-c1c121a7ad83"
      },
      "source": [
        "dataframe.hist()\n",
        "plt.show()"
      ],
      "execution_count": null,
      "outputs": [
        {
          "output_type": "display_data",
          "data": {
            "image/png": "[encoded data removed]",
            "text/plain": [
              "<Figure size 1152x648 with 4 Axes>"
            ]
          },
          "metadata": {}
        }
      ]
    },
    {
      "cell_type": "code",
      "metadata": {
        "colab": {
          "base_uri": "https://localhost:8080/"
        },
        "id": "GW_L_JMTJ7Iv",
        "outputId": "71376b0e-f46d-4ecb-9531-74e7ae456831"
      },
      "source": [
        "print(dataframe.groupby('Star Rating').size())"
      ],
      "execution_count": null,
      "outputs": [
        {
          "output_type": "stream",
          "name": "stdout",
          "text": [
            "Star Rating\n",
            "1    37\n",
            "2    24\n",
            "3    78\n",
            "4    30\n",
            "5    88\n",
            "dtype: int64\n"
          ]
        }
      ]
    },
    {
      "cell_type": "code",
      "metadata": {
        "colab": {
          "base_uri": "https://localhost:8080/",
          "height": 458
        },
        "id": "BEy2R4YUKIqI",
        "outputId": "3a3c3f61-9dbe-408b-df87-7d7c86e6d256"
      },
      "source": [
        "sb.catplot('Star Rating',data=dataframe,kind=\"count\", aspect=1)"
      ],
      "execution_count": null,
      "outputs": [
        {
          "output_type": "stream",
          "name": "stderr",
          "text": [
            "/usr/local/lib/python3.7/dist-packages/seaborn/_decorators.py:43: FutureWarning: Pass the following variable as a keyword arg: x. From version 0.12, the only valid positional argument will be `data`, and passing other arguments without an explicit keyword will result in an error or misinterpretation.\n",
            "  FutureWarning\n"
          ]
        },
        {
          "output_type": "execute_result",
          "data": {
            "text/plain": [
              "<seaborn.axisgrid.FacetGrid at 0x7f9ec3d73ad0>"
            ]
          },
          "metadata": {},
          "execution_count": 13
        },
        {
          "output_type": "display_data",
          "data": {
            "image/png": "[encoded data removed]",
            "text/plain": [
              "<Figure size 360x360 with 1 Axes>"
            ]
          },
          "metadata": {}
        }
      ]
    },
    {
      "cell_type": "code",
      "metadata": {
        "colab": {
          "base_uri": "https://localhost:8080/",
          "height": 409
        },
        "id": "Yx9qtCkAKmmN",
        "outputId": "cdc17c33-ef73-489c-c69c-58e5d5b3c12f"
      },
      "source": [
        "sb.catplot('wordcount',data=dataframe,kind=\"count\", aspect=3)"
      ],
      "execution_count": null,
      "outputs": [
        {
          "output_type": "stream",
          "name": "stderr",
          "text": [
            "/usr/local/lib/python3.7/dist-packages/seaborn/_decorators.py:43: FutureWarning: Pass the following variable as a keyword arg: x. From version 0.12, the only valid positional argument will be `data`, and passing other arguments without an explicit keyword will result in an error or misinterpretation.\n",
            "  FutureWarning\n"
          ]
        },
        {
          "output_type": "execute_result",
          "data": {
            "text/plain": [
              "<seaborn.axisgrid.FacetGrid at 0x7f9ec37431d0>"
            ]
          },
          "metadata": {},
          "execution_count": 14
        },
        {
          "output_type": "display_data",
          "data": {
            "image/png": "[encoded data removed]",
            "text/plain": [
              "<Figure size 1080x360 with 1 Axes>"
            ]
          },
          "metadata": {}
        }
      ]
    },
    {
      "cell_type": "code",
      "metadata": {
        "id": "hiMylQBLK0sy"
      },
      "source": [
        "X = dataframe[['wordcount','sentimentValue']].values\n",
        "y = dataframe['Star Rating'].values\n",
        "\n",
        "#\n",
        "\n"
      ],
      "execution_count": null,
      "outputs": []
    },
    {
      "cell_type": "code",
      "metadata": {
        "colab": {
          "base_uri": "https://localhost:8080/"
        },
        "id": "hGamS2bSMWop",
        "outputId": "92c43920-8dcf-4044-9e8c-5bf4db2aa65c"
      },
      "source": [
        "#partición del conjunto de muestras en validación y entrenamiento\n",
        "X_train, X_test, y_train, y_test = train_test_split(X, y, random_state=0,test_size=0.3)\n",
        "print(X_train.shape)\n",
        "print(X_test.shape)"
      ],
      "execution_count": null,
      "outputs": [
        {
          "output_type": "stream",
          "name": "stdout",
          "text": [
            "(179, 2)\n",
            "(78, 2)\n"
          ]
        }
      ]
    },
    {
      "cell_type": "code",
      "metadata": {
        "id": "vDO3G6kRNFl8"
      },
      "source": [
        "scaler = StandardScaler()# Ejercicio, no use la escalización de los datos a ver que tal funciona!\n",
        "scaler.fit(X_train)# el fit de los datos solo se hace con el conjunto de entrenamiento!\n",
        "X_train = scaler.transform(X_train)\n",
        "X_test = scaler.transform(X_test)"
      ],
      "execution_count": null,
      "outputs": []
    },
    {
      "cell_type": "code",
      "metadata": {
        "colab": {
          "base_uri": "https://localhost:8080/"
        },
        "id": "aV8fgEMGNnZ1",
        "outputId": "2f721a14-c636-477f-af25-a7d23505ffeb"
      },
      "source": [
        "n_neighbors = 1\n",
        "# ver https://scikit-learn.org/stable/modules/generated/sklearn.neighbors.DistanceMetric.html#sklearn.neighbors.DistanceMetric\n",
        "#por ejemplo euclidean. manhattan. chebyshev. minkowski. wminkowski. seuclidean. mahalanobis. hamming\n",
        "#import sklearn\n",
        "#sorted(sklearn.neighbors.VALID_METRICS['brute'])\n",
        "distance='euclidean'\n",
        "knn = KNeighborsClassifier(n_neighbors,weights='uniform',metric=distance, metric_params=None,algorithm='brute')\n",
        "knn.fit(X_train, y_train)\n",
        "print('Accuracy of K-NN classifier on training set: {:.2f}'\n",
        "     .format(knn.score(X_train, y_train)))\n",
        "print('Accuracy of K-NN classifier on test set: {:.2f}'\n",
        "     .format(knn.score(X_test, y_test)))"
      ],
      "execution_count": null,
      "outputs": [
        {
          "output_type": "stream",
          "name": "stdout",
          "text": [
            "Accuracy of K-NN classifier on training set: 0.99\n",
            "Accuracy of K-NN classifier on test set: 0.83\n"
          ]
        }
      ]
    }
  ]
}