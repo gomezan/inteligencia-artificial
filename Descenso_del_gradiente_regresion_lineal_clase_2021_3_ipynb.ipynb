{
  "nbformat": 4,
  "nbformat_minor": 0,
  "metadata": {
    "colab": {
      "name": "Descenso del gradiente regresion lineal_clase_2021-3.ipynb.ipynb",
      "provenance": []
    },
    "kernelspec": {
      "name": "python3",
      "display_name": "Python 3"
    },
    "language_info": {
      "name": "python"
    }
  },
  "cells": [
    {
      "cell_type": "markdown",
      "metadata": {
        "id": "gYLo9hLg7ZZV"
      },
      "source": [
        "# Implementación de regresión lineal por metodo de Gradiente"
      ]
    },
    {
      "cell_type": "markdown",
      "metadata": {
        "id": "0RVTBbD19mLb"
      },
      "source": [
        "Recorderis"
      ]
    },
    {
      "cell_type": "code",
      "metadata": {
        "id": "yomE9THP6rIo"
      },
      "source": [
        "import numpy as np\n",
        "a=np.array([1,2,3])\n",
        "b=np.array([8,3,6])"
      ],
      "execution_count": null,
      "outputs": []
    },
    {
      "cell_type": "code",
      "metadata": {
        "colab": {
          "base_uri": "https://localhost:8080/"
        },
        "id": "Dh5fEJPh70f8",
        "outputId": "9ef94f43-10c4-4dd6-9a7a-2cb614bb489e"
      },
      "source": [
        "# operaciones básicas entre arreglos vectorizados\n",
        "c=a*b\n",
        "b=a-b\n",
        "print(c)\n",
        "print(b)"
      ],
      "execution_count": null,
      "outputs": [
        {
          "output_type": "stream",
          "text": [
            "[ 8  6 18]\n",
            "[-7 -1 -3]\n"
          ],
          "name": "stdout"
        }
      ]
    },
    {
      "cell_type": "code",
      "metadata": {
        "colab": {
          "base_uri": "https://localhost:8080/"
        },
        "id": "6uZQpsxQ8A6V",
        "outputId": "3847b9f1-94b5-4b70-c16c-f54a06a394b0"
      },
      "source": [
        "e=np.pi*a\n",
        "print(e)\n",
        "f=np.pi+a\n",
        "print(f)"
      ],
      "execution_count": null,
      "outputs": [
        {
          "output_type": "stream",
          "text": [
            "[3.14159265 6.28318531 9.42477796]\n",
            "[4.14159265 5.14159265 6.14159265]\n"
          ],
          "name": "stdout"
        }
      ]
    },
    {
      "cell_type": "code",
      "metadata": {
        "colab": {
          "base_uri": "https://localhost:8080/"
        },
        "id": "DZkJspL98cvL",
        "outputId": "32c2fa77-609e-4499-a8ce-01391a54403d"
      },
      "source": [
        "g=np.power(f,2)\n",
        "print(g)\n",
        "h=np.power(a,a)\n",
        "print(h)"
      ],
      "execution_count": null,
      "outputs": [
        {
          "output_type": "stream",
          "text": [
            "[17.15278971 26.43597502 37.71916032]\n",
            "[ 1  4 27]\n"
          ],
          "name": "stdout"
        }
      ]
    },
    {
      "cell_type": "code",
      "metadata": {
        "colab": {
          "base_uri": "https://localhost:8080/"
        },
        "id": "1iWH8u1j86YM",
        "outputId": "e2db0748-b93f-4c82-f1ae-b0d6ee6f092f"
      },
      "source": [
        "j=np.sum(a)\n",
        "print(j)"
      ],
      "execution_count": null,
      "outputs": [
        {
          "output_type": "stream",
          "text": [
            "6\n"
          ],
          "name": "stdout"
        }
      ]
    },
    {
      "cell_type": "code",
      "metadata": {
        "colab": {
          "base_uri": "https://localhost:8080/"
        },
        "id": "hTx91Sip9YtB",
        "outputId": "a476f25f-9586-4eca-e076-f006a5b43fa0"
      },
      "source": [
        "if a.size==b.size:\n",
        "  print(\"igual tamaño\")\n",
        "else:\n",
        "  print(\"Diferente tamaño\")"
      ],
      "execution_count": null,
      "outputs": [
        {
          "output_type": "stream",
          "text": [
            "igual tamaño\n"
          ],
          "name": "stdout"
        }
      ]
    },
    {
      "cell_type": "markdown",
      "metadata": {
        "id": "PZIThKmw9ssA"
      },
      "source": [
        "Ejemplo de solución de problema de regresión lineal univariada."
      ]
    },
    {
      "cell_type": "code",
      "metadata": {
        "id": "2BhnBPWt95Ib"
      },
      "source": [
        "import numpy as np\n",
        "import matplotlib.pyplot as plt\n",
        "import time\n",
        "\"\"\"\n",
        " Función de costo que el entran los dos theta X y Y\n",
        "\"\"\"\n",
        "def costo(theta0,theta1,x,y):\n",
        "  #donde theta0 y theta1 son los parámetros a probar,\n",
        "  #x y y son nparrays de la misma dimensión\n",
        "  n=x.size\n",
        "  #aqui podrian depurar que los tamaños de los arreglos sean iguales\n",
        "\n",
        "  #calculo del costo en la variable J\n",
        "  J=(1/(2*n))*np.sum(np.power(( (theta0+theta1*x)-(y) ),2)) #terminen ustedes... \n",
        "  time.sleep(1)\n",
        "  return J\n",
        "\n",
        "\n",
        "\n"
      ],
      "execution_count": null,
      "outputs": []
    }
  ]
}